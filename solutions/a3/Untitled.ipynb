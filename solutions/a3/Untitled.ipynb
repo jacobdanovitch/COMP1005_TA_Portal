{
 "cells": [
  {
   "cell_type": "code",
   "execution_count": null,
   "metadata": {
    "collapsed": true
   },
   "outputs": [],
   "source": [
    "import re\n",
    "import json"
   ]
  },
  {
   "cell_type": "code",
   "execution_count": null,
   "metadata": {},
   "outputs": [
    {
     "data": {
      "text/plain": [
       "['Problem 1: [/10]',\n",
       " 'Problem 2: [/10]',\n",
       " 'Problem 3: [/5]',\n",
       " 'Documentation: [/5]',\n",
       " 'Total: [/30]']"
      ]
     },
     "execution_count": 208,
     "metadata": {},
     "output_type": "execute_result"
    }
   ],
   "source": [
    "data = open(\"A3F2018_marking.txt\").read()\n",
    "\n",
    "pattern = r\"\\n*(\\w+[ \\d]*: \\[\\/\\d+\\])\\n*\"# r\"(\\w+( \\d)*: \\[\\/\\d*\\])\\n\"\n",
    "re.findall(pattern, data)"
   ]
  },
  {
   "cell_type": "code",
   "execution_count": 276,
   "metadata": {},
   "outputs": [],
   "source": [
    "def parse_contents(contents):\n",
    "    contents = re.sub(r\"(\\n*)(\\t+)\\s*-\\s*\", \"; \", contents)\n",
    "    c = contents.split(\"\\n\") if contents else None\n",
    "    \n",
    "    if c:\n",
    "        new_contents = []\n",
    "        for part in c:\n",
    "            spl = re.split(r\"\\s*\\bmarks?\\b\\s*-\\s*\", part) # (?:\\/)(\\d+(?:\\.\\d+)?)  # (?:\\/)(\\d+(?:\\.\\d+)?)\n",
    "            if len(spl) != 2:\n",
    "                new_contents.append(dict(description=contents))\n",
    "                continue\n",
    "\n",
    "            mark = re.search(r\"(?:\\/)(\\d+(?:\\.\\d+)?)\", spl[0]).group()\n",
    "            desc = spl[1]\n",
    "            \n",
    "            if mark: \n",
    "                mark = int(mark.replace(\"/\",\"\"))\n",
    "                \n",
    "            new_contents.append(dict(mark=mark, description=desc))\n",
    "        \n",
    "        return new_contents\n",
    "    return contents\n",
    "\n",
    "questions = {}\n",
    "\n",
    "for r in re.split(\"\\n\\n\", data):\n",
    "    spl = [x for x in re.split(pattern, r) if x]\n",
    "    if \"Total: \" in spl[0]:\n",
    "        # questions[spl[0]] = \"\"\n",
    "        continue\n",
    "    \n",
    "    name, components = spl\n",
    "    \n",
    "    total = int(re.search(r\"(?:\\/)(\\d+(?:\\.\\d+)?)\", name).group().replace(\"/\", \"\"))\n",
    "    name = name.strip().split(\":\")[0]\n",
    "    \n",
    "    questions[name] = dict(\n",
    "        total=total,\n",
    "        contents=parse_contents(components)    \n",
    "    )\n",
    "\n",
    "questions['Total'] = int(re.search(r\"\\d+\", re.search(r\"Total: \\[\\/(\\d+)\\]\", data).group()).group())"
   ]
  },
  {
   "cell_type": "code",
   "execution_count": 277,
   "metadata": {
    "code_folding": []
   },
   "outputs": [
    {
     "name": "stdout",
     "output_type": "stream",
     "text": [
      "{\n",
      "  \"Problem 1\": {\n",
      "    \"total\": 10,\n",
      "    \"contents\": [\n",
      "      {\n",
      "        \"mark\": 1,\n",
      "        \"description\": \"Request and store the user's name\"\n",
      "      },\n",
      "      {\n",
      "        \"mark\": 1,\n",
      "        \"description\": \"Menu of doughnuts is correctly displayed\"\n",
      "      },\n",
      "      {\n",
      "        \"mark\": 1,\n",
      "        \"description\": \"User's doughnut selection is requested and stored  (menu prompt works)\"\n",
      "      },\n",
      "      {\n",
      "        \"mark\": 2,\n",
      "        \"description\": \"Bad selections cause the menu to repeat (menu is in a loop, probably using a flag pattern)\"\n",
      "      },\n",
      "      {\n",
      "        \"mark\": 1,\n",
      "        \"description\": \"Request and store the user's quantity of purchase, user input must be converted to a number (preferrably int)\"\n",
      "      },\n",
      "      {\n",
      "        \"mark\": 1,\n",
      "        \"description\": \"A personalized receipt is displayed (users name is displayed)\"\n",
      "      },\n",
      "      {\n",
      "        \"mark\": 1,\n",
      "        \"description\": \"Selected doughnut and quantity are displayed in the receipt\"\n",
      "      },\n",
      "      {\n",
      "        \"mark\": 2,\n",
      "        \"description\": \"Correctly calculates and displays the total price (1 mark for the calculation, 1 mark for displaying with exactly 2 decimal places)\"\n",
      "      }\n",
      "    ]\n",
      "  },\n",
      "  \"Problem 2\": {\n",
      "    \"total\": 10,\n",
      "    \"contents\": [\n",
      "      {\n",
      "        \"mark\": 3,\n",
      "        \"description\": \"Doughnut menu is repeated until customer chooses to stop; menu option added for stopping; selecting that option stops the menu, otherwise menu repeats; bad selections still cause repeat\"\n",
      "      },\n",
      "      {\n",
      "        \"mark\": 3,\n",
      "        \"description\": \"User's entered quantity of each requested variety of doughnut is stored; separate variables for each quantity (each initialized to zero); correct type of doughnut labelled when quantity requested ; correct quantity variable set with each menu selection\"\n",
      "      },\n",
      "      {\n",
      "        \"mark\": 1,\n",
      "        \"description\": \"Correctly calculate the total cost \"\n",
      "      },\n",
      "      {\n",
      "        \"mark\": 2,\n",
      "        \"description\": \"Correct display of selected doughnuts in the receipt; only selected varieties are displayed; selected varieties are displayed correctly (quantity and name)\"\n",
      "      },\n",
      "      {\n",
      "        \"mark\": 1,\n",
      "        \"description\": \"The rest of the program still functions as intended\"\n",
      "      }\n",
      "    ]\n",
      "  },\n",
      "  \"Problem 3\": {\n",
      "    \"total\": 5,\n",
      "    \"contents\": [\n",
      "      {\n",
      "        \"mark\": 1,\n",
      "        \"description\": \"Menu of currencies is correctly displayed, and the users input is requested and stored\"\n",
      "      },\n",
      "      {\n",
      "        \"mark\": 1,\n",
      "        \"description\": \"Bad selection causes the currency menu to repeat\"\n",
      "      },\n",
      "      {\n",
      "        \"mark\": 1,\n",
      "        \"description\": \"The selected currency exchange rate is correctly used to calculate the final cost\"\n",
      "      },\n",
      "      {\n",
      "        \"mark\": 1,\n",
      "        \"description\": \"The currency name appears along with the cost\"\n",
      "      },\n",
      "      {\n",
      "        \"mark\": 1,\n",
      "        \"description\": \"The rest of the program still functions as intended\"\n",
      "      }\n",
      "    ]\n",
      "  },\n",
      "  \"Documentation\": {\n",
      "    \"total\": 5,\n",
      "    \"contents\": [\n",
      "      {\n",
      "        \"mark\": 2,\n",
      "        \"description\": \"student name and # at the top of each file\"\n",
      "      },\n",
      "      {\n",
      "        \"mark\": 3,\n",
      "        \"description\": \"code cleanliness\"\n",
      "      }\n",
      "    ]\n",
      "  },\n",
      "  \"Total\": 30\n",
      "}\n"
     ]
    }
   ],
   "source": [
    "with open(\"marking.json\", \"w\") as f:\n",
    "    out = json.dumps(questions, indent=2)\n",
    "    print(out)\n",
    "    f.write(out)"
   ]
  },
  {
   "cell_type": "code",
   "execution_count": 266,
   "metadata": {},
   "outputs": [
    {
     "data": {
      "text/plain": [
       "['a2p1', 'a2p2', 'a2p3', 'Documentation', 'Total: [/30]']"
      ]
     },
     "execution_count": 266,
     "metadata": {},
     "output_type": "execute_result"
    }
   ],
   "source": [
    "with open(\"marking.json\", \"r\") as f:\n",
    "    a = json.load(f)\n",
    "\n",
    "[f\"a{2}_p{i+1}.py\" if \"Problem\" in p else p\n",
    " for i, p in enumerate(a.keys())]"
   ]
  },
  {
   "cell_type": "code",
   "execution_count": null,
   "metadata": {
    "collapsed": true
   },
   "outputs": [],
   "source": []
  }
 ],
 "metadata": {
  "kernelspec": {
   "display_name": "Python 3",
   "language": "python",
   "name": "python3"
  },
  "language_info": {
   "codemirror_mode": {
    "name": "ipython",
    "version": 3
   },
   "file_extension": ".py",
   "mimetype": "text/x-python",
   "name": "python",
   "nbconvert_exporter": "python",
   "pygments_lexer": "ipython3",
   "version": "3.6.6"
  },
  "latex_envs": {
   "LaTeX_envs_menu_present": true,
   "autoclose": false,
   "autocomplete": true,
   "bibliofile": "biblio.bib",
   "cite_by": "apalike",
   "current_citInitial": 1.0,
   "eqLabelWithNumbers": true,
   "eqNumInitial": 1.0,
   "hotkeys": {
    "equation": "Ctrl-E",
    "itemize": "Ctrl-I"
   },
   "labels_anchors": false,
   "latex_user_defs": false,
   "report_style_numbering": false,
   "user_envs_cfg": false
  },
  "toc": {
   "nav_menu": {},
   "number_sections": false,
   "sideBar": true,
   "skip_h1_title": false,
   "title_cell": "Table of Contents",
   "title_sidebar": "Contents",
   "toc_cell": false,
   "toc_position": {},
   "toc_section_display": true,
   "toc_window_display": false
  }
 },
 "nbformat": 4,
 "nbformat_minor": 2
}
